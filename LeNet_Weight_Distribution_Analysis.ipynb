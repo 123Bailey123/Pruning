{
 "cells": [
  {
   "cell_type": "code",
   "execution_count": 22,
   "metadata": {},
   "outputs": [
    {
     "name": "stdout",
     "output_type": "stream",
     "text": [
      "########## LENET Results ###########\n",
      "LeNet_Weights/Magnitude_Pruning_pruned AND LeNet_Weights/Magnitude_Pruning__Randomize_layerwise_pruned\n",
      "Layer:  model.fc_layers.0.weight\n",
      "Wasserstein Distance: 0.008437754294528955\n",
      "\n",
      "\n",
      "LeNet_Weights/Magnitude_Pruning_pruned AND LeNet_Weights/Magnitude_Pruning__Randomize_layerwise_pruned\n",
      "Layer:  model.fc_layers.1.weight\n",
      "Wasserstein Distance: 0.01509445669542693\n",
      "\n",
      "\n",
      "LeNet_Weights/Magnitude_Pruning_pruned AND LeNet_Weights/Magnitude_Pruning__Randomize_layerwise_pruned\n",
      "Layer:  model.fc.weight\n",
      "Wasserstein Distance: 0.020644118127644103\n",
      "\n",
      "\n",
      "LeNet_Weights/Magnitude_Pruning_pruned AND LeNet_Weights/Magnitude_Pruning__Reinit_pruned\n",
      "Layer:  model.fc_layers.0.weight\n",
      "Wasserstein Distance: 0.008495886973515988\n",
      "\n",
      "\n",
      "LeNet_Weights/Magnitude_Pruning_pruned AND LeNet_Weights/Magnitude_Pruning__Reinit_pruned\n",
      "Layer:  model.fc_layers.1.weight\n",
      "Wasserstein Distance: 0.014907305671936289\n",
      "\n",
      "\n",
      "LeNet_Weights/Magnitude_Pruning_pruned AND LeNet_Weights/Magnitude_Pruning__Reinit_pruned\n",
      "Layer:  model.fc.weight\n",
      "Wasserstein Distance: 0.0223686763646856\n",
      "\n",
      "\n",
      "LeNet_Weights/Magnitude_Pruning_pruned AND LeNet_Weights/Random_Pruning_pruned\n",
      "Layer:  model.fc_layers.0.weight\n",
      "Wasserstein Distance: 0.007447482925342235\n",
      "\n",
      "\n",
      "LeNet_Weights/Magnitude_Pruning_pruned AND LeNet_Weights/Random_Pruning_pruned\n",
      "Layer:  model.fc_layers.1.weight\n",
      "Wasserstein Distance: 0.03005647150915447\n",
      "\n",
      "\n",
      "LeNet_Weights/Magnitude_Pruning_pruned AND LeNet_Weights/Random_Pruning_pruned\n",
      "Layer:  model.fc.weight\n",
      "Wasserstein Distance: 0.10953734871970483\n",
      "\n",
      "\n"
     ]
    }
   ],
   "source": [
    "import torch\n",
    "import sklearn.metrics\n",
    "import math\n",
    "from math import log2\n",
    "import numpy as np\n",
    "from scipy.stats import entropy\n",
    "from scipy.stats import wasserstein_distance\n",
    "\n",
    "\n",
    "# def KL(a, b):\n",
    "#     a = np.asarray(a, dtype=np.float)\n",
    "#     b = np.asarray(b, dtype=np.float)\n",
    "#     return np.sum(np.where(a != 0, a * np.log(a / b), 0))\n",
    "\n",
    "def total_variation(A, B):\n",
    "    return 1/2* (sum(abs(a - b) for a, b in zip(A, B)))\n",
    "\n",
    "\n",
    "m1 = \"LeNet_Weights/Magnitude_Pruning_pruned.pt\"\n",
    "m2 = \"LeNet_Weights/Magnitude_Pruning__Randomize_layerwise_pruned.pt\"\n",
    "m3 = \"LeNet_Weights/Magnitude_Pruning__Reinit_pruned.pt\"\n",
    "m4 = \"LeNet_Weights/Random_Pruning_pruned.pt\"\n",
    "\n",
    "model = torch.load(m1)\n",
    "model2 = torch.load(m2)\n",
    "model3 = torch.load(m3)\n",
    "model4 = torch.load(m4)\n",
    "\n",
    "layer_names = []\n",
    "randomize_weights = []\n",
    "reinit_weights = []\n",
    "random_weights = []\n",
    "\n",
    "print (\"########## LENET Results ###########\")\n",
    "for layer in model.keys():\n",
    "    if \"weight\" in layer and \"mask\" not in layer:\n",
    "        layer_names.append(layer)\n",
    "        res1 = torch.flatten(model[layer]) \n",
    "        res2 = torch.flatten(model2[layer])\n",
    "        \n",
    "        print ( m1[:-3], \"AND\", m2[:-3])\n",
    "        print (\"Layer: \", layer)\n",
    "#         print (\"Normalized Mutual Info Score:\", sklearn.metrics.normalized_mutual_info_score(res1, res2))\n",
    "#         print (\"Mutual Info Score:\", sklearn.metrics.mutual_info_score(res1, res2))\n",
    "#         print (\"KL Divergence: \", entropy(res1, qk=res2))\n",
    "        print (\"Wasserstein Distance:\", wasserstein_distance(res1, res2))\n",
    "#         print (\"Absolute difference: \", sum(res1-res2))\n",
    "#         print (\"Total Variation: \", total_variation(res1, res2))\n",
    "        randomize_weights.append(wasserstein_distance(res1, res2))\n",
    "        print (\"\\n\")\n",
    "\n",
    "for layer in model.keys():\n",
    "    if \"weight\" in layer and \"mask\" not in layer:\n",
    "        res1 = torch.flatten(model[layer]) \n",
    "        res3 = torch.flatten(model3[layer])\n",
    "        \n",
    "        print ( m1[:-3], \"AND\", m3[:-3])\n",
    "        print (\"Layer: \", layer)\n",
    "#         print (\"Normalized Mutual Info Score:\", sklearn.metrics.normalized_mutual_info_score(res1, res3))\n",
    "#         print (\"Mutual Info Score:\", sklearn.metrics.mutual_info_score(res1, res3))\n",
    "#         print (\"KL Divergence: \", entropy(res1, qk=res3))\n",
    "        print (\"Wasserstein Distance:\", wasserstein_distance(res1, res3))\n",
    "#         print (\"Absolute difference: \", sum(res1-res3))\n",
    "#         print (\"Total Variation: \", total_variation(res1, res2))\n",
    "        reinit_weights.append(wasserstein_distance(res1, res3))\n",
    "        print (\"\\n\")\n",
    "\n",
    "for layer in model.keys():\n",
    "    if \"weight\" in layer and \"mask\" not in layer:\n",
    "        res1 = torch.flatten(model[layer]) \n",
    "        res4 = torch.flatten(model4[layer])\n",
    "        \n",
    "        print ( m1[:-3], \"AND\", m4[:-3])\n",
    "        print (\"Layer: \", layer)\n",
    "#         print (\"Normalized Mutual Info Score:\", sklearn.metrics.normalized_mutual_info_score(res1, res4))\n",
    "#         print (\"Mutual Info Score:\", sklearn.metrics.mutual_info_score(res1, res4))\n",
    "#         print (\"KL Divergence: \", entropy(res1, qk=res4))\n",
    "        print (\"Wasserstein Distance:\", wasserstein_distance(res1, res4))\n",
    "#         print (\"Absolute difference: \", sum(res1-res4))\n",
    "#         print (\"Total Variation: \", total_variation(res1, res4))\n",
    "        random_weights.append(wasserstein_distance(res1, res4))\n",
    "        print (\"\\n\")\n",
    "\n",
    "\n"
   ]
  },
  {
   "cell_type": "code",
   "execution_count": 23,
   "metadata": {},
   "outputs": [
    {
     "name": "stdout",
     "output_type": "stream",
     "text": [
      "model.fc_layers.0.weight\n",
      "Randomize-Layerwise/Random Pruning:  1.1329672560667488\n",
      "Reinit/Random Pruning:  1.1407729374721023\n",
      "\n",
      "\n",
      "model.fc_layers.1.weight\n",
      "Randomize-Layerwise/Random Pruning:  0.5022032173946143\n",
      "Reinit/Random Pruning:  0.4959765708824433\n",
      "\n",
      "\n",
      "model.fc.weight\n",
      "Randomize-Layerwise/Random Pruning:  0.1884664762196349\n",
      "Reinit/Random Pruning:  0.20421049647572553\n",
      "\n",
      "\n"
     ]
    }
   ],
   "source": [
    "size = len(random_weights)\n",
    "\n",
    "for i in range(len(random_weights)):\n",
    "    randomize_layer = randomize_weights[i] \n",
    "    reinit = reinit_weights[i]\n",
    "    random = random_weights[i]\n",
    "    print (layer_names[i])\n",
    "    print (\"Randomize-Layerwise/Random Pruning: \", randomize_layer/random)\n",
    "    print (\"Reinit/Random Pruning: \", reinit/random)\n",
    "    print (\"\\n\")\n",
    "    \n",
    "    "
   ]
  },
  {
   "cell_type": "code",
   "execution_count": 24,
   "metadata": {},
   "outputs": [],
   "source": []
  },
  {
   "cell_type": "code",
   "execution_count": null,
   "metadata": {},
   "outputs": [],
   "source": []
  },
  {
   "cell_type": "code",
   "execution_count": 26,
   "metadata": {},
   "outputs": [
    {
     "name": "stdout",
     "output_type": "stream",
     "text": [
      "tensor([[-0.1046, -0.0880, -0.0684,  ..., -0.0899,  0.0370,  0.0346],\n",
      "        [ 0.0018,  0.0375,  0.0536,  ...,  0.0604, -0.0385,  0.0098],\n",
      "        [ 0.0577, -0.0332,  0.0195,  ...,  0.0292, -0.0167, -0.0645],\n",
      "        ...,\n",
      "        [-0.0291, -0.0086, -0.0104,  ..., -0.0082,  0.0272,  0.0837],\n",
      "        [-0.0022,  0.0950,  0.0913,  ..., -0.0131, -0.0150, -0.0239],\n",
      "        [-0.0483,  0.0542,  0.0185,  ...,  0.0964,  0.0642,  0.0283]])\n",
      "#######\n",
      "\n",
      "tensor([[-0.1087, -0.0921, -0.0725,  ..., -0.0940,  0.0000,  0.0000],\n",
      "        [ 0.0000,  0.0000,  0.0000,  ...,  0.0000,  0.0000,  0.0000],\n",
      "        [ 0.0000,  0.0000,  0.0000,  ...,  0.0000,  0.0000, -0.0707],\n",
      "        ...,\n",
      "        [-0.0000, -0.0000, -0.0000,  ..., -0.0000, -0.0000,  0.0726],\n",
      "        [-0.0000,  0.0876,  0.0839,  ..., -0.0000, -0.0000, -0.0000],\n",
      "        [-0.0000, -0.0000, -0.0000,  ...,  0.1013,  0.0690, -0.0000]])\n"
     ]
    }
   ],
   "source": [
    "import torch\n",
    "import sklearn.metrics\n",
    "import math\n",
    "from math import log2\n",
    "import numpy as np\n",
    "from scipy.stats import entropy\n",
    "from scipy.stats import wasserstein_distance\n",
    "\n",
    "\n",
    "\n",
    "m1 = \"LeNet_Weights/Magnitude_Pruning_original.pt\"\n",
    "m2 = \"LeNet_Weights/Magnitude_Pruning_pruned.pt\"\n",
    "\n",
    "model= torch.load(m1)\n",
    "model2 = torch.load(m2)\n",
    "\n",
    "print (model['fc_layers.0.weight'])\n",
    "print (\"#######\\n\")\n",
    "print (model2['model.fc_layers.0.weight'])\n",
    "\n"
   ]
  },
  {
   "cell_type": "code",
   "execution_count": null,
   "metadata": {},
   "outputs": [],
   "source": [
    "# m1 = \"LeNet_Weights/Magnitude_Pruning__Reinit_original.pt\"\n",
    "# m2 = \"LeNet_Weights/Magnitude_Pruning__Reinit_pruned.pt\"\n",
    "\n",
    "# model = torch.load(m1)\n",
    "# model2 = torch.load(m2)\n",
    "\n",
    "# print (model['fc_layers.0.weight'])\n",
    "# print (\"#######\\n\")\n",
    "# print (model2['model.fc_layers.0.weight'])\n",
    "\n"
   ]
  },
  {
   "cell_type": "code",
   "execution_count": null,
   "metadata": {},
   "outputs": [],
   "source": [
    "# m1 = \"LeNet_Weights/Magnitude_Pruning_pruned.pt\"\n",
    "# m2 = \"LeNet_Weights/Magnitude_Pruning__Reinit_pruned.pt\"\n",
    "# m3 = \"LeNet_Weights/Magnitude_Pruning__Randomize_layerwise_pruned.pt\"\n",
    "\n",
    "# model = torch.load(m1)\n",
    "# model2 = torch.load(m2)\n",
    "# model3 = torch.load(m3)\n",
    "\n",
    "# res1 = torch.flatten(model[layer]) \n",
    "# res2 = torch.flatten(model2[layer])\n",
    "# res3 = torch.flatten(model3[layer]) \n",
    "\n",
    "# print (model['model.fc_layers.1.weight'])\n",
    "# print (np.round(sum(res1-res2).item(), 6))\n",
    "# print (\"#######\\n\")\n",
    "# print (model2['model.fc_layers.1.weight'])\n",
    "# print (np.round(sum(res1-res3).item(), 6))\n",
    "# print (\"#######\\n\")\n",
    "# print (model3['model.fc_layers.1.weight'])"
   ]
  },
  {
   "cell_type": "code",
   "execution_count": null,
   "metadata": {},
   "outputs": [],
   "source": []
  },
  {
   "cell_type": "code",
   "execution_count": null,
   "metadata": {},
   "outputs": [],
   "source": [
    "\n",
    "import numpy as np\n",
    "import matplotlib.pyplot as plt\n",
    "plt.style.use('seaborn-deep')\n",
    "\n",
    "x = list(res1)\n",
    "y = list(res2)\n",
    "bins = np.linspace(-2, 2, 30)\n",
    "\n",
    "plt.hist([x, y], bins, label=['Magnitude Pruning (Original)', 'Magnitude Pruning (Randomize)'])\n",
    "plt.legend(loc='upper right')\n",
    "plt.show()"
   ]
  },
  {
   "cell_type": "code",
   "execution_count": null,
   "metadata": {},
   "outputs": [],
   "source": [
    "import numpy as np\n",
    "import matplotlib.pyplot as plt\n",
    "plt.style.use('seaborn-deep')\n",
    "\n",
    "x = list(res1)\n",
    "y = list(res3)\n",
    "bins = np.linspace(-2, 2, 30)\n",
    "\n",
    "plt.hist([x, y], bins, label=['x', 'y'])\n",
    "plt.legend(loc='upper right')\n",
    "plt.show()"
   ]
  },
  {
   "cell_type": "code",
   "execution_count": null,
   "metadata": {},
   "outputs": [],
   "source": [
    "from scipy.stats import wasserstein_distance\n",
    "\n",
    "a = [0,1,3]\n",
    "b = [3,1,0]\n",
    "\n",
    "norm_a = [float(i)/sum(a) for i in a]\n",
    "norm_b = [float(i)/sum(b) for i in b]\n",
    "\n",
    "\n",
    "print (\"Normalized Mutual Info Score:\", sklearn.metrics.normalized_mutual_info_score(a, b))\n",
    "print (\"Mutual Info Score:\", sklearn.metrics.mutual_info_score(a, b))\n",
    "print (\"KL Divergence: \", entropy(norm_a, qk=norm_b))\n",
    "print (\"Wasserstein Distance:\", wasserstein_distance(a, b))\n"
   ]
  },
  {
   "cell_type": "code",
   "execution_count": 28,
   "metadata": {},
   "outputs": [
    {
     "data": {
      "text/plain": [
       "<matplotlib.legend.Legend at 0x7fee7e738130>"
      ]
     },
     "execution_count": 28,
     "metadata": {},
     "output_type": "execute_result"
    },
    {
     "data": {
      "image/png": "[encoded data removed]",
      "text/plain": [
       "<Figure size 432x288 with 1 Axes>"
      ]
     },
     "metadata": {
      "needs_background": "light"
     },
     "output_type": "display_data"
    }
   ],
   "source": [
    "\n",
    "# layer_names = []\n",
    "# randomize_weights = []\n",
    "# reinit_weights = []\n",
    "# random_weights = []\n",
    "\n",
    "fig = plt.figure()\n",
    "ax = plt.axes()\n",
    "plt.xlabel(\"weights\")\n",
    "plt.ylabel(\"Wasserstein Distance\")\n",
    "\n",
    "\n",
    "ax.plot(layer_names, reinit_weights, label=\"Reinit\");\n",
    "ax.plot(layer_names, randomize_weights, label=\"Layerwise Randomize\");\n",
    "ax.plot(layer_names, random_weights, color='olive', label=\"random weights\");\n",
    "plt.legend()"
   ]
  },
  {
   "cell_type": "code",
   "execution_count": null,
   "metadata": {},
   "outputs": [],
   "source": []
  }
 ],
 "metadata": {
  "kernelspec": {
   "display_name": "Python 3",
   "language": "python",
   "name": "python3"
  },
  "language_info": {
   "codemirror_mode": {
    "name": "ipython",
    "version": 3
   },
   "file_extension": ".py",
   "mimetype": "text/x-python",
   "name": "python",
   "nbconvert_exporter": "python",
   "pygments_lexer": "ipython3",
   "version": "3.8.3"
  }
 },
 "nbformat": 4,
 "nbformat_minor": 4
}
